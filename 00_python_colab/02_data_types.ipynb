{
  "nbformat": 4,
  "nbformat_minor": 0,
  "metadata": {
    "colab": {
      "provenance": [],
      "authorship_tag": "ABX9TyMjeYC36rKd1k8ui2akj8ZE",
      "include_colab_link": true
    },
    "kernelspec": {
      "name": "python3",
      "display_name": "Python 3"
    },
    "language_info": {
      "name": "python"
    }
  },
  "cells": [
    {
      "cell_type": "markdown",
      "metadata": {
        "id": "view-in-github",
        "colab_type": "text"
      },
      "source": [
        "<a href=\"https://colab.research.google.com/github/raheelam98/Modern_AI_Python/blob/main/00_python_colab/02_data_types.ipynb\" target=\"_parent\"><img src=\"https://colab.research.google.com/assets/colab-badge.svg\" alt=\"Open In Colab\"/></a>"
      ]
    },
    {
      "cell_type": "markdown",
      "source": [
        "**Common data types in Python:**\n",
        "\n",
        "* int - Integer (whole number)\n",
        "* float - Floating-point number (decimal)\n",
        "* str - String (sequence of characters)\n",
        "* bool - Boolean (True or False)\n",
        "* list - List (ordered collection of items)\n",
        "* tuple - Tuple (ordered, immutable collection of items)\n",
        "* dict - Dictionary (key-value pairs)\n",
        "* set - Set (unordered collection of unique items)\n",
        "* frozenset - Frozenset (immutable set)\n",
        "* NoneType - None (represents no value)\n",
        "* bytes - Bytes (immutable sequence of bytes)\n",
        "* bytearray - Bytearray (mutable sequence of bytes)"
      ],
      "metadata": {
        "id": "U8Llrtxo9C2b"
      }
    },
    {
      "cell_type": "markdown",
      "source": [
        "### Python Data Types Table\n",
        "\n",
        "| Data Type       | Ordered? | Changeable? | Allows Duplicates? | Mutable/Immutable | Used to Store |\n",
        "|----------------|---------|-------------|-------------------|------------------|---------------|\n",
        "| **List (`[]`)**       | ✅ Yes  | ✅ Yes  | ✅ Yes  | **Mutable** | Multiple items (any data type) |\n",
        "| **Dictionary (`{}`)** | ✅ Yes (Python 3.7+) | ✅ Yes  | ❌ No (Keys must be unique) | **Mutable** | Key-value pairs |\n",
        "| **Tuple (`()`**)      | ✅ Yes  | ❌ No  | ✅ Yes  | **Immutable** | Multiple items (any data type) |\n",
        "| **Set (`{}`)**        | ❌ No  | ✅ Yes  | ❌ No  | **Mutable** | Unique items (any data type) |\n",
        "\n",
        "#### **Key Takeaways:**\n",
        "- **List**: Stores multiple elements, allows duplicates, can be changed.\n",
        "- **Dictionary**: Stores key-value pairs, keys must be unique, values can be changed.\n",
        "- **Tuple**: Similar to a list but **cannot** be modified.\n",
        "- **Set**: Stores unique elements, unordered, and changeable.\n",
        "\n",
        "**Mutable**\n",
        "\n",
        "- **Mutable (Changeable after creation)** → `List`, `Dictionary`, `Set`\n",
        "- **Immutable (Cannot be changed after creation)** → `Tuple`"
      ],
      "metadata": {
        "id": "fN0osvSAWhBa"
      }
    },
    {
      "cell_type": "markdown",
      "source": [
        "**Integers (int)**\n",
        "\n",
        "Integers are whole numbers, both positive and negative, without decimals."
      ],
      "metadata": {
        "id": "JteCJvUk-SmB"
      }
    },
    {
      "cell_type": "code",
      "execution_count": null,
      "metadata": {
        "colab": {
          "base_uri": "https://localhost:8080/"
        },
        "id": "4J404wqy8xtZ",
        "outputId": "f2f4812f-15d0-4888-e765-0cd58aaa0198"
      },
      "outputs": [
        {
          "output_type": "stream",
          "name": "stdout",
          "text": [
            "<class 'int'>\n",
            "<class 'int'>\n",
            "<class 'int'>\n"
          ]
        }
      ],
      "source": [
        "# integer\n",
        "x = 5 # int\n",
        "y = -12\n",
        "age = 20\n",
        "print(type(x))\n",
        "print(type(y))\n",
        "print(type(age))"
      ]
    },
    {
      "cell_type": "markdown",
      "source": [
        "**Floating-point numbers (float)**\n",
        "\n",
        "Floats represent decimal numbers."
      ],
      "metadata": {
        "id": "vISDkk8b-bvG"
      }
    },
    {
      "cell_type": "code",
      "source": [
        "a = 3.14\n",
        "b = -0.001\n",
        "print(type(a))  # <class 'float'>\n",
        "print(type(b))  # <class 'float'>"
      ],
      "metadata": {
        "colab": {
          "base_uri": "https://localhost:8080/"
        },
        "id": "UoTzGSI_93Re",
        "outputId": "29cafc8d-de9f-427c-c679-f4caf4934b03"
      },
      "execution_count": null,
      "outputs": [
        {
          "output_type": "stream",
          "name": "stdout",
          "text": [
            "<class 'float'>\n",
            "<class 'float'>\n"
          ]
        }
      ]
    },
    {
      "cell_type": "markdown",
      "source": [
        "**Strings (str)**\n",
        "\n",
        "Strings are sequences of characters enclosed in quotes (single or double)."
      ],
      "metadata": {
        "id": "Rb2MOb-E-ysJ"
      }
    },
    {
      "cell_type": "code",
      "source": [
        "name = \"Panversity\"\n",
        "message = 'Hello, class!'\n",
        "print(type(name))  # <class 'str'>"
      ],
      "metadata": {
        "colab": {
          "base_uri": "https://localhost:8080/"
        },
        "id": "BlVRiMxe-5BS",
        "outputId": "62106762-a2e3-479f-f6a1-4c7c0c84a269"
      },
      "execution_count": null,
      "outputs": [
        {
          "output_type": "stream",
          "name": "stdout",
          "text": [
            "<class 'str'>\n"
          ]
        }
      ]
    },
    {
      "cell_type": "markdown",
      "source": [
        "**Booleans (bool)**\n",
        "\n",
        "Booleans represent two values: True or False."
      ],
      "metadata": {
        "id": "LLAnQd81_Efu"
      }
    },
    {
      "cell_type": "code",
      "source": [
        "is_active = True\n",
        "is_logged_in = False\n",
        "print(type(is_active))  # <class 'bool'>"
      ],
      "metadata": {
        "colab": {
          "base_uri": "https://localhost:8080/"
        },
        "id": "fSzG_EIt_IOI",
        "outputId": "92eb1448-4fe4-4316-8988-389a739ce980"
      },
      "execution_count": null,
      "outputs": [
        {
          "output_type": "stream",
          "name": "stdout",
          "text": [
            "<class 'bool'>\n"
          ]
        }
      ]
    },
    {
      "cell_type": "markdown",
      "source": [
        "**Tuples (tuple)**\n",
        "\n",
        "Tuples are ordered, immutable collections of items."
      ],
      "metadata": {
        "id": "R2Grbq6q_Rvm"
      }
    },
    {
      "cell_type": "code",
      "source": [
        "point = (3, 5)\n",
        "colors = (\"red\", \"green\", \"blue\")\n",
        "print(type(point))  # <class 'tuple'>"
      ],
      "metadata": {
        "colab": {
          "base_uri": "https://localhost:8080/"
        },
        "id": "UKtJNmhR_bvb",
        "outputId": "b271717f-a8c5-46e3-eb5c-4ed17c9aa3a0"
      },
      "execution_count": null,
      "outputs": [
        {
          "output_type": "stream",
          "name": "stdout",
          "text": [
            "<class 'tuple'>\n"
          ]
        }
      ]
    },
    {
      "cell_type": "markdown",
      "source": [
        "**Dictionaries (dict)**\n",
        "\n",
        "Dictionaries are collections of key-value pairs."
      ],
      "metadata": {
        "id": "-Ttrbocw_iPg"
      }
    },
    {
      "cell_type": "code",
      "source": [
        "student = {\"name\": \"Bilal\", \"age\": 21, \"grade\": \"A\"}\n",
        "print(type(student))  # <class 'dict'>"
      ],
      "metadata": {
        "colab": {
          "base_uri": "https://localhost:8080/"
        },
        "id": "RAmmvOh5_sBS",
        "outputId": "2b2da2ff-6fb8-4b87-d597-12de91828bb4"
      },
      "execution_count": null,
      "outputs": [
        {
          "output_type": "stream",
          "name": "stdout",
          "text": [
            "<class 'dict'>\n"
          ]
        }
      ]
    },
    {
      "cell_type": "markdown",
      "source": [
        "**Sets (set)**\n",
        "\n",
        "Sets are unordered collections of unique items."
      ],
      "metadata": {
        "id": "1Wx1gMPa_0uP"
      }
    },
    {
      "cell_type": "code",
      "source": [
        "unique_numbers = {1, 2, 3, 3, 4}\n",
        "print(type(unique_numbers))  # <class 'set'>"
      ],
      "metadata": {
        "colab": {
          "base_uri": "https://localhost:8080/"
        },
        "id": "qkAR-ruo_8OR",
        "outputId": "f2341cf3-ec78-4e7e-a52c-68e6f42c20b2"
      },
      "execution_count": null,
      "outputs": [
        {
          "output_type": "stream",
          "name": "stdout",
          "text": [
            "<class 'set'>\n"
          ]
        }
      ]
    },
    {
      "cell_type": "markdown",
      "source": [
        "**NoneType (None)**\n",
        "\n",
        "The None type is used to represent the absence of a value or a null value."
      ],
      "metadata": {
        "id": "Z0CJ-rmhACrk"
      }
    },
    {
      "cell_type": "code",
      "source": [
        "result = None\n",
        "print(type(result))  # <class 'NoneType'>\n"
      ],
      "metadata": {
        "colab": {
          "base_uri": "https://localhost:8080/"
        },
        "id": "8_4bpkTtABwv",
        "outputId": "336ff808-cb87-42a3-c231-88ebe2d575e1"
      },
      "execution_count": null,
      "outputs": [
        {
          "output_type": "stream",
          "name": "stdout",
          "text": [
            "<class 'NoneType'>\n"
          ]
        }
      ]
    },
    {
      "cell_type": "markdown",
      "source": [
        "**Bytes (bytes)**\n",
        "\n",
        "Bytes are immutable sequences of bytes, used for binary data."
      ],
      "metadata": {
        "id": "WhRiCsFvAORw"
      }
    },
    {
      "cell_type": "code",
      "source": [
        "byte_data = b\"Hello\"\n",
        "print(type(byte_data))  # <class 'bytes'>\n"
      ],
      "metadata": {
        "colab": {
          "base_uri": "https://localhost:8080/"
        },
        "id": "rIiySE4AAR7U",
        "outputId": "14e59296-ae1f-4262-b6e7-4db296b7df19"
      },
      "execution_count": null,
      "outputs": [
        {
          "output_type": "stream",
          "name": "stdout",
          "text": [
            "<class 'bytes'>\n"
          ]
        }
      ]
    }
  ]
}