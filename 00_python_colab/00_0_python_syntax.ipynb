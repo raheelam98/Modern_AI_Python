{
  "nbformat": 4,
  "nbformat_minor": 0,
  "metadata": {
    "colab": {
      "provenance": [],
      "authorship_tag": "ABX9TyNj74Bw3OMn5FdPvXkYwvgj",
      "include_colab_link": true
    },
    "kernelspec": {
      "name": "python3",
      "display_name": "Python 3"
    },
    "language_info": {
      "name": "python"
    }
  },
  "cells": [
    {
      "cell_type": "markdown",
      "metadata": {
        "id": "view-in-github",
        "colab_type": "text"
      },
      "source": [
        "<a href=\"https://colab.research.google.com/github/raheelam98/Modern_AI_Python/blob/main/00_python_colab/00_0_python_syntax.ipynb\" target=\"_parent\"><img src=\"https://colab.research.google.com/assets/colab-badge.svg\" alt=\"Open In Colab\"/></a>"
      ]
    },
    {
      "cell_type": "markdown",
      "source": [
        "**Syntax of String Slicing in Python**\n",
        "\n",
        "substring = s[start : end : step]"
      ],
      "metadata": {
        "id": "F0qh-jTwwpgt"
      }
    },
    {
      "cell_type": "code",
      "execution_count": 1,
      "metadata": {
        "colab": {
          "base_uri": "https://localhost:8080/"
        },
        "id": "SgF-9fhRwVRR",
        "outputId": "1e739ac9-4351-48a2-dfa0-4fced26319ff"
      },
      "outputs": [
        {
          "output_type": "stream",
          "name": "stdout",
          "text": [
            "Hello\n"
          ]
        }
      ],
      "source": [
        "s = \"Hello, Python!\"\n",
        "\n",
        "# Slice string from index 0 to index 5 (exclusive)\n",
        "s2 = s[0:5]\n",
        "\n",
        "print(s2)"
      ]
    }
  ]
}