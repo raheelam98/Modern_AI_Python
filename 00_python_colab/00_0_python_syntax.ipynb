{
  "nbformat": 4,
  "nbformat_minor": 0,
  "metadata": {
    "colab": {
      "provenance": [],
      "authorship_tag": "ABX9TyO5sVWVRP4BsNpPhXEcFQIt",
      "include_colab_link": true
    },
    "kernelspec": {
      "name": "python3",
      "display_name": "Python 3"
    },
    "language_info": {
      "name": "python"
    }
  },
  "cells": [
    {
      "cell_type": "markdown",
      "metadata": {
        "id": "view-in-github",
        "colab_type": "text"
      },
      "source": [
        "<a href=\"https://colab.research.google.com/github/raheelam98/Modern_AI_Python/blob/main/00_python_colab/00_0_python_syntax.ipynb\" target=\"_parent\"><img src=\"https://colab.research.google.com/assets/colab-badge.svg\" alt=\"Open In Colab\"/></a>"
      ]
    },
    {
      "cell_type": "markdown",
      "source": [
        "**String Slicing in Python**\n",
        "\n",
        "substring = s[start : end (exclusive) : step]\n",
        "\n",
        "**range() function**\n",
        "\n",
        "Syntax: range(start, stop (exclusive), step)"
      ],
      "metadata": {
        "id": "F0qh-jTwwpgt"
      }
    },
    {
      "cell_type": "markdown",
      "source": [
        "## **String Slicing in Python**\n",
        "\n",
        "substring = s[start : end (exclusive) : step]"
      ],
      "metadata": {
        "id": "87I6Grxh4G-s"
      }
    },
    {
      "cell_type": "code",
      "execution_count": 8,
      "metadata": {
        "colab": {
          "base_uri": "https://localhost:8080/"
        },
        "id": "SgF-9fhRwVRR",
        "outputId": "ded11ef7-b87d-41a7-dd99-7850e44bac75"
      },
      "outputs": [
        {
          "output_type": "stream",
          "name": "stdout",
          "text": [
            "Slice string from index 0 to index 5 (exclusive):- s[0:5]\n",
            "Hello\n",
            "\n",
            "Characters from index 7 to the end :-  s[7:]\n",
            "Python!\n",
            "\n",
            "Characters from the start up to index 5 (exclusive):-  s[:5] \n",
            "Hello\n",
            "\n",
            " Characters from index 2 to index 8 (exclusive) :- s[2:8]\n",
            "llo, P\n"
          ]
        }
      ],
      "source": [
        "# String Slicing in Python\n",
        "\n",
        "s = \"Hello, Python!\"\n",
        "\n",
        "# Slice string from index 0 to index 5 (exclusive)\n",
        "print(\"Slice string from index 0 to index 5 (exclusive):- s[0:5]\")\n",
        "s2 = s[0:5]\n",
        "\n",
        "print(s2)\n",
        "\n",
        "# Characters from index 7 to the end\n",
        "print(\"\\nCharacters from index 7 to the end :-  s[7:]\")\n",
        "print(s[7:])\n",
        "\n",
        "# Characters from the start up to index 5 (exclusive)\n",
        "print(\"\\nCharacters from the start up to index 5 (exclusive):-  s[:5] \")\n",
        "print(s[:5])\n",
        "\n",
        "print(\"\\n Characters from index 2 to index 8 (exclusive) :- s[2:8]\")\n",
        "print(s[2:8])"
      ]
    },
    {
      "cell_type": "markdown",
      "source": [
        "## **range() function**\n",
        "\n",
        "Syntax: range(start, stop (exclusive), step)"
      ],
      "metadata": {
        "id": "arIDzRoA4Si_"
      }
    },
    {
      "cell_type": "code",
      "source": [
        "# Syntax: range(start, stop (exclusive), step)\n",
        "\n",
        "# printing first 6\n",
        "# whole number\n",
        "print(\" printing first 6\")\n",
        "for i in range(6):\n",
        "    print(i, end=\" \")\n",
        "print()\n",
        "\n",
        "\n",
        "# incremented by 4\n",
        "print(\"\\nincremented by 4\")\n",
        "for i in range(8, 30, 4):\n",
        "    print(i, end=\" \")\n",
        "print()\n",
        "\n",
        "\n",
        "# incremented by -2\n",
        "print(\"\\nincremented by -2\")\n",
        "for i in range(25, 4, -2):\n",
        "    print(i, end=\" \")\n",
        "print()\n",
        "\n",
        "print(\"\")\n"
      ],
      "metadata": {
        "colab": {
          "base_uri": "https://localhost:8080/"
        },
        "id": "7EvjcY174gtW",
        "outputId": "4e9254a4-ddd0-4f14-c155-91794dcc49ca"
      },
      "execution_count": 11,
      "outputs": [
        {
          "output_type": "stream",
          "name": "stdout",
          "text": [
            " printing first 6\n",
            "0 1 2 3 4 5 \n",
            "\n",
            "incremented by 4\n",
            "8 12 16 20 24 28 \n",
            "\n",
            "incremented by -2\n",
            "25 23 21 19 17 15 13 11 9 7 5 \n",
            "\n"
          ]
        }
      ]
    },
    {
      "cell_type": "markdown",
      "source": [
        "### **`isinstance(object, classinfo)` in Python**\n",
        "\n",
        "The function **`isinstance(object, classinfo)`** checks whether an object belongs to a particular class or subclass.\n",
        "\n",
        "**Example:**\n",
        "```python\n",
        "print(isinstance(5, int))  # Output: True\n",
        "```\n",
        "**Key Points of `isinstance()`**\n",
        "\n",
        "- `isinstance()` **returns `True`** if the object is an instance of the given class (or subclass).  \n",
        "- It **returns `False`** if the object is **not** an instance of the given class.  \n",
        "- You can pass a **tuple of types** to check for multiple classes at once.  \n"
      ],
      "metadata": {
        "id": "tfkbqV4xBDxW"
      }
    },
    {
      "cell_type": "code",
      "source": [
        "isinstance(99, int)"
      ],
      "metadata": {
        "colab": {
          "base_uri": "https://localhost:8080/"
        },
        "id": "E44-ZSJtBpL0",
        "outputId": "5d7865da-9f50-4cfb-f840-023abf5bf980"
      },
      "execution_count": 16,
      "outputs": [
        {
          "output_type": "execute_result",
          "data": {
            "text/plain": [
              "True"
            ]
          },
          "metadata": {},
          "execution_count": 16
        }
      ]
    },
    {
      "cell_type": "code",
      "source": [
        "\n",
        "print(isinstance(5.0, int))    # Output: False (5.0 is a float, not an int)\n",
        "print(isinstance(5.0, (int, float)))  # Output: True (5.0 is a float, and float is in the tuple)\n",
        "print(isinstance(\"hello\", str))  # Output: True\n",
        "print(isinstance([1, 2, 3], list))  # Output: True\n"
      ],
      "metadata": {
        "colab": {
          "base_uri": "https://localhost:8080/"
        },
        "id": "FUerOgKF-exh",
        "outputId": "04fd700a-345d-4fc2-e3f0-6281e19e107c"
      },
      "execution_count": 14,
      "outputs": [
        {
          "output_type": "stream",
          "name": "stdout",
          "text": [
            "False\n",
            "True\n",
            "True\n",
            "True\n"
          ]
        }
      ]
    },
    {
      "cell_type": "markdown",
      "source": [
        "### **Bytes in Python - `(like b\"hello\")`**\n",
        "In Python, prefixing a string with `b` (like `b\"hello\"`) creates a **bytes** object, not a regular string (`str`).  \n",
        "\n",
        "The `bytes` type represents **immutable sequences of bytes**, often used for handling **binary data**, such as:\n",
        "\n",
        "- Files  \n",
        "- Network communication  \n",
        "- Encoding conversions  "
      ],
      "metadata": {
        "id": "nO2hBysJ_vxk"
      }
    },
    {
      "cell_type": "code",
      "source": [
        "# What will type(b\"hello\") return?\n",
        "\n",
        "test = b\"hello\"\n",
        "print(test)\n",
        "print(type(test))"
      ],
      "metadata": {
        "colab": {
          "base_uri": "https://localhost:8080/"
        },
        "id": "fh4UEly9_Vhs",
        "outputId": "a89d514f-f323-453f-afd5-64948042774f"
      },
      "execution_count": 13,
      "outputs": [
        {
          "output_type": "stream",
          "name": "stdout",
          "text": [
            "b'hello'\n",
            "<class 'bytes'>\n"
          ]
        }
      ]
    }
  ]
}