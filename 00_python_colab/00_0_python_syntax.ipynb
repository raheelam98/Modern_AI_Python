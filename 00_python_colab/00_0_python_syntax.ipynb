{
  "nbformat": 4,
  "nbformat_minor": 0,
  "metadata": {
    "colab": {
      "provenance": [],
      "authorship_tag": "ABX9TyPQa8vqUTtnqJygJvUmRoXi",
      "include_colab_link": true
    },
    "kernelspec": {
      "name": "python3",
      "display_name": "Python 3"
    },
    "language_info": {
      "name": "python"
    }
  },
  "cells": [
    {
      "cell_type": "markdown",
      "metadata": {
        "id": "view-in-github",
        "colab_type": "text"
      },
      "source": [
        "<a href=\"https://colab.research.google.com/github/raheelam98/Modern_AI_Python/blob/main/00_python_colab/00_0_python_syntax.ipynb\" target=\"_parent\"><img src=\"https://colab.research.google.com/assets/colab-badge.svg\" alt=\"Open In Colab\"/></a>"
      ]
    },
    {
      "cell_type": "markdown",
      "source": [
        "**String Slicing in Python**\n",
        "\n",
        "substring = s[start : end (exclusive) : step]\n",
        "\n",
        "**range() function**\n",
        "\n",
        "Syntax: range(start, stop (exclusive), step)"
      ],
      "metadata": {
        "id": "F0qh-jTwwpgt"
      }
    },
    {
      "cell_type": "markdown",
      "source": [
        "## **String Slicing in Python**\n",
        "\n",
        "substring = s[start : end (exclusive) : step]"
      ],
      "metadata": {
        "id": "87I6Grxh4G-s"
      }
    },
    {
      "cell_type": "code",
      "execution_count": 8,
      "metadata": {
        "colab": {
          "base_uri": "https://localhost:8080/"
        },
        "id": "SgF-9fhRwVRR",
        "outputId": "ded11ef7-b87d-41a7-dd99-7850e44bac75"
      },
      "outputs": [
        {
          "output_type": "stream",
          "name": "stdout",
          "text": [
            "Slice string from index 0 to index 5 (exclusive):- s[0:5]\n",
            "Hello\n",
            "\n",
            "Characters from index 7 to the end :-  s[7:]\n",
            "Python!\n",
            "\n",
            "Characters from the start up to index 5 (exclusive):-  s[:5] \n",
            "Hello\n",
            "\n",
            " Characters from index 2 to index 8 (exclusive) :- s[2:8]\n",
            "llo, P\n"
          ]
        }
      ],
      "source": [
        "# String Slicing in Python\n",
        "\n",
        "s = \"Hello, Python!\"\n",
        "\n",
        "# Slice string from index 0 to index 5 (exclusive)\n",
        "print(\"Slice string from index 0 to index 5 (exclusive):- s[0:5]\")\n",
        "s2 = s[0:5]\n",
        "\n",
        "print(s2)\n",
        "\n",
        "# Characters from index 7 to the end\n",
        "print(\"\\nCharacters from index 7 to the end :-  s[7:]\")\n",
        "print(s[7:])\n",
        "\n",
        "# Characters from the start up to index 5 (exclusive)\n",
        "print(\"\\nCharacters from the start up to index 5 (exclusive):-  s[:5] \")\n",
        "print(s[:5])\n",
        "\n",
        "print(\"\\n Characters from index 2 to index 8 (exclusive) :- s[2:8]\")\n",
        "print(s[2:8])"
      ]
    },
    {
      "cell_type": "markdown",
      "source": [
        "## **range() function**\n",
        "\n",
        "Syntax: range(start, stop (exclusive), step)"
      ],
      "metadata": {
        "id": "arIDzRoA4Si_"
      }
    },
    {
      "cell_type": "code",
      "source": [
        "# Syntax: range(start, stop (exclusive), step)\n",
        "\n",
        "# printing first 6\n",
        "# whole number\n",
        "print(\" printing first 6\")\n",
        "for i in range(6):\n",
        "    print(i, end=\" \")\n",
        "print()\n",
        "\n",
        "\n",
        "# incremented by 4\n",
        "print(\"\\nincremented by 4\")\n",
        "for i in range(8, 30, 4):\n",
        "    print(i, end=\" \")\n",
        "print()\n",
        "\n",
        "\n",
        "# incremented by -2\n",
        "print(\"\\nincremented by -2\")\n",
        "for i in range(25, 4, -2):\n",
        "    print(i, end=\" \")\n",
        "print()\n",
        "\n",
        "print(\"\")\n"
      ],
      "metadata": {
        "colab": {
          "base_uri": "https://localhost:8080/"
        },
        "id": "7EvjcY174gtW",
        "outputId": "4e9254a4-ddd0-4f14-c155-91794dcc49ca"
      },
      "execution_count": 11,
      "outputs": [
        {
          "output_type": "stream",
          "name": "stdout",
          "text": [
            " printing first 6\n",
            "0 1 2 3 4 5 \n",
            "\n",
            "incremented by 4\n",
            "8 12 16 20 24 28 \n",
            "\n",
            "incremented by -2\n",
            "25 23 21 19 17 15 13 11 9 7 5 \n",
            "\n"
          ]
        }
      ]
    }
  ]
}